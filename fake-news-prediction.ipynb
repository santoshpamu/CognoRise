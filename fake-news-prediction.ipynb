{
 "cells": [
  {
   "cell_type": "markdown",
   "id": "9b49ba96",
   "metadata": {
    "_cell_guid": "b1076dfc-b9ad-4769-8c92-a6c4dae69d19",
    "_uuid": "8f2839f25d086af736a60e9eeb907d3b93b6e0e5",
    "papermill": {
     "duration": 0.008816,
     "end_time": "2024-02-08T14:38:32.329297",
     "exception": false,
     "start_time": "2024-02-08T14:38:32.320481",
     "status": "completed"
    },
    "tags": []
   },
   "source": [
    "## Import Dependencies"
   ]
  },
  {
   "cell_type": "code",
   "execution_count": 1,
   "id": "7df4cd66",
   "metadata": {
    "execution": {
     "iopub.execute_input": "2024-02-08T14:38:32.347019Z",
     "iopub.status.busy": "2024-02-08T14:38:32.346720Z",
     "iopub.status.idle": "2024-02-08T14:38:34.730353Z",
     "shell.execute_reply": "2024-02-08T14:38:34.729498Z"
    },
    "papermill": {
     "duration": 2.395216,
     "end_time": "2024-02-08T14:38:34.732649",
     "exception": false,
     "start_time": "2024-02-08T14:38:32.337433",
     "status": "completed"
    },
    "tags": []
   },
   "outputs": [],
   "source": [
    "import pandas as pd\n",
    "import numpy as np\n",
    "import seaborn as sns\n",
    "import matplotlib.pyplot as plt\n",
    "from nltk.corpus import stopwords\n",
    "from nltk.stem.porter import PorterStemmer\n",
    "import re\n",
    "from sklearn.feature_extraction.text import TfidfVectorizer\n",
    "from sklearn.model_selection import train_test_split\n",
    "from sklearn.linear_model import LogisticRegression\n",
    "from sklearn.metrics import accuracy_score"
   ]
  },
  {
   "cell_type": "code",
   "execution_count": 2,
   "id": "e6663bfc",
   "metadata": {
    "execution": {
     "iopub.execute_input": "2024-02-08T14:38:34.750065Z",
     "iopub.status.busy": "2024-02-08T14:38:34.749642Z",
     "iopub.status.idle": "2024-02-08T14:38:34.812079Z",
     "shell.execute_reply": "2024-02-08T14:38:34.811294Z"
    },
    "papermill": {
     "duration": 0.073387,
     "end_time": "2024-02-08T14:38:34.814123",
     "exception": false,
     "start_time": "2024-02-08T14:38:34.740736",
     "status": "completed"
    },
    "tags": []
   },
   "outputs": [
    {
     "name": "stderr",
     "output_type": "stream",
     "text": [
      "[nltk_data] Downloading package stopwords to\n",
      "[nltk_data]     C:\\Users\\home\\AppData\\Roaming\\nltk_data...\n",
      "[nltk_data]   Package stopwords is already up-to-date!\n"
     ]
    },
    {
     "data": {
      "text/plain": [
       "True"
      ]
     },
     "execution_count": 2,
     "metadata": {},
     "output_type": "execute_result"
    }
   ],
   "source": [
    "import nltk\n",
    "nltk.download('stopwords')"
   ]
  },
  {
   "cell_type": "code",
   "execution_count": 3,
   "id": "c46de2c3",
   "metadata": {
    "execution": {
     "iopub.execute_input": "2024-02-08T14:38:34.831916Z",
     "iopub.status.busy": "2024-02-08T14:38:34.831623Z",
     "iopub.status.idle": "2024-02-08T14:38:34.838311Z",
     "shell.execute_reply": "2024-02-08T14:38:34.837336Z"
    },
    "papermill": {
     "duration": 0.018108,
     "end_time": "2024-02-08T14:38:34.840375",
     "exception": false,
     "start_time": "2024-02-08T14:38:34.822267",
     "status": "completed"
    },
    "tags": []
   },
   "outputs": [
    {
     "name": "stdout",
     "output_type": "stream",
     "text": [
      "['i', 'me', 'my', 'myself', 'we', 'our', 'ours', 'ourselves', 'you', \"you're\", \"you've\", \"you'll\", \"you'd\", 'your', 'yours', 'yourself', 'yourselves', 'he', 'him', 'his', 'himself', 'she', \"she's\", 'her', 'hers', 'herself', 'it', \"it's\", 'its', 'itself', 'they', 'them', 'their', 'theirs', 'themselves', 'what', 'which', 'who', 'whom', 'this', 'that', \"that'll\", 'these', 'those', 'am', 'is', 'are', 'was', 'were', 'be', 'been', 'being', 'have', 'has', 'had', 'having', 'do', 'does', 'did', 'doing', 'a', 'an', 'the', 'and', 'but', 'if', 'or', 'because', 'as', 'until', 'while', 'of', 'at', 'by', 'for', 'with', 'about', 'against', 'between', 'into', 'through', 'during', 'before', 'after', 'above', 'below', 'to', 'from', 'up', 'down', 'in', 'out', 'on', 'off', 'over', 'under', 'again', 'further', 'then', 'once', 'here', 'there', 'when', 'where', 'why', 'how', 'all', 'any', 'both', 'each', 'few', 'more', 'most', 'other', 'some', 'such', 'no', 'nor', 'not', 'only', 'own', 'same', 'so', 'than', 'too', 'very', 's', 't', 'can', 'will', 'just', 'don', \"don't\", 'should', \"should've\", 'now', 'd', 'll', 'm', 'o', 're', 've', 'y', 'ain', 'aren', \"aren't\", 'couldn', \"couldn't\", 'didn', \"didn't\", 'doesn', \"doesn't\", 'hadn', \"hadn't\", 'hasn', \"hasn't\", 'haven', \"haven't\", 'isn', \"isn't\", 'ma', 'mightn', \"mightn't\", 'mustn', \"mustn't\", 'needn', \"needn't\", 'shan', \"shan't\", 'shouldn', \"shouldn't\", 'wasn', \"wasn't\", 'weren', \"weren't\", 'won', \"won't\", 'wouldn', \"wouldn't\"]\n"
     ]
    }
   ],
   "source": [
    "# let's check stopwords\n",
    "print(stopwords.words('english'))"
   ]
  },
  {
   "cell_type": "code",
   "execution_count": 4,
   "id": "0c07170c",
   "metadata": {
    "execution": {
     "iopub.execute_input": "2024-02-08T14:38:34.858450Z",
     "iopub.status.busy": "2024-02-08T14:38:34.858195Z",
     "iopub.status.idle": "2024-02-08T14:38:35.660946Z",
     "shell.execute_reply": "2024-02-08T14:38:35.660152Z"
    },
    "papermill": {
     "duration": 0.814058,
     "end_time": "2024-02-08T14:38:35.663381",
     "exception": false,
     "start_time": "2024-02-08T14:38:34.849323",
     "status": "completed"
    },
    "tags": []
   },
   "outputs": [],
   "source": [
    "df = pd.read_csv(r\"C:\\Users\\home\\Downloads\\archive (1)\\news.csv\")"
   ]
  },
  {
   "cell_type": "code",
   "execution_count": 5,
   "id": "c28fc662",
   "metadata": {
    "execution": {
     "iopub.execute_input": "2024-02-08T14:38:35.682314Z",
     "iopub.status.busy": "2024-02-08T14:38:35.682014Z",
     "iopub.status.idle": "2024-02-08T14:38:35.696378Z",
     "shell.execute_reply": "2024-02-08T14:38:35.695427Z"
    },
    "papermill": {
     "duration": 0.026071,
     "end_time": "2024-02-08T14:38:35.698315",
     "exception": false,
     "start_time": "2024-02-08T14:38:35.672244",
     "status": "completed"
    },
    "tags": []
   },
   "outputs": [
    {
     "data": {
      "text/html": [
       "<div>\n",
       "<style scoped>\n",
       "    .dataframe tbody tr th:only-of-type {\n",
       "        vertical-align: middle;\n",
       "    }\n",
       "\n",
       "    .dataframe tbody tr th {\n",
       "        vertical-align: top;\n",
       "    }\n",
       "\n",
       "    .dataframe thead th {\n",
       "        text-align: right;\n",
       "    }\n",
       "</style>\n",
       "<table border=\"1\" class=\"dataframe\">\n",
       "  <thead>\n",
       "    <tr style=\"text-align: right;\">\n",
       "      <th></th>\n",
       "      <th>Unnamed: 0</th>\n",
       "      <th>title</th>\n",
       "      <th>text</th>\n",
       "      <th>label</th>\n",
       "    </tr>\n",
       "  </thead>\n",
       "  <tbody>\n",
       "    <tr>\n",
       "      <th>0</th>\n",
       "      <td>8476</td>\n",
       "      <td>You Can Smell Hillary’s Fear</td>\n",
       "      <td>Daniel Greenfield, a Shillman Journalism Fello...</td>\n",
       "      <td>FAKE</td>\n",
       "    </tr>\n",
       "    <tr>\n",
       "      <th>1</th>\n",
       "      <td>10294</td>\n",
       "      <td>Watch The Exact Moment Paul Ryan Committed Pol...</td>\n",
       "      <td>Google Pinterest Digg Linkedin Reddit Stumbleu...</td>\n",
       "      <td>FAKE</td>\n",
       "    </tr>\n",
       "    <tr>\n",
       "      <th>2</th>\n",
       "      <td>3608</td>\n",
       "      <td>Kerry to go to Paris in gesture of sympathy</td>\n",
       "      <td>U.S. Secretary of State John F. Kerry said Mon...</td>\n",
       "      <td>REAL</td>\n",
       "    </tr>\n",
       "    <tr>\n",
       "      <th>3</th>\n",
       "      <td>10142</td>\n",
       "      <td>Bernie supporters on Twitter erupt in anger ag...</td>\n",
       "      <td>— Kaydee King (@KaydeeKing) November 9, 2016 T...</td>\n",
       "      <td>FAKE</td>\n",
       "    </tr>\n",
       "    <tr>\n",
       "      <th>4</th>\n",
       "      <td>875</td>\n",
       "      <td>The Battle of New York: Why This Primary Matters</td>\n",
       "      <td>It's primary day in New York and front-runners...</td>\n",
       "      <td>REAL</td>\n",
       "    </tr>\n",
       "  </tbody>\n",
       "</table>\n",
       "</div>"
      ],
      "text/plain": [
       "   Unnamed: 0                                              title  \\\n",
       "0        8476                       You Can Smell Hillary’s Fear   \n",
       "1       10294  Watch The Exact Moment Paul Ryan Committed Pol...   \n",
       "2        3608        Kerry to go to Paris in gesture of sympathy   \n",
       "3       10142  Bernie supporters on Twitter erupt in anger ag...   \n",
       "4         875   The Battle of New York: Why This Primary Matters   \n",
       "\n",
       "                                                text label  \n",
       "0  Daniel Greenfield, a Shillman Journalism Fello...  FAKE  \n",
       "1  Google Pinterest Digg Linkedin Reddit Stumbleu...  FAKE  \n",
       "2  U.S. Secretary of State John F. Kerry said Mon...  REAL  \n",
       "3  — Kaydee King (@KaydeeKing) November 9, 2016 T...  FAKE  \n",
       "4  It's primary day in New York and front-runners...  REAL  "
      ]
     },
     "execution_count": 5,
     "metadata": {},
     "output_type": "execute_result"
    }
   ],
   "source": [
    "df.head()"
   ]
  },
  {
   "cell_type": "code",
   "execution_count": 6,
   "id": "b8024b36",
   "metadata": {},
   "outputs": [
    {
     "data": {
      "text/html": [
       "<div>\n",
       "<style scoped>\n",
       "    .dataframe tbody tr th:only-of-type {\n",
       "        vertical-align: middle;\n",
       "    }\n",
       "\n",
       "    .dataframe tbody tr th {\n",
       "        vertical-align: top;\n",
       "    }\n",
       "\n",
       "    .dataframe thead th {\n",
       "        text-align: right;\n",
       "    }\n",
       "</style>\n",
       "<table border=\"1\" class=\"dataframe\">\n",
       "  <thead>\n",
       "    <tr style=\"text-align: right;\">\n",
       "      <th></th>\n",
       "      <th>Unnamed: 0</th>\n",
       "      <th>title</th>\n",
       "      <th>text</th>\n",
       "      <th>label</th>\n",
       "    </tr>\n",
       "  </thead>\n",
       "  <tbody>\n",
       "    <tr>\n",
       "      <th>0</th>\n",
       "      <td>8476</td>\n",
       "      <td>You Can Smell Hillary’s Fear</td>\n",
       "      <td>Daniel Greenfield, a Shillman Journalism Fello...</td>\n",
       "      <td>FAKE</td>\n",
       "    </tr>\n",
       "    <tr>\n",
       "      <th>1</th>\n",
       "      <td>10294</td>\n",
       "      <td>Watch The Exact Moment Paul Ryan Committed Pol...</td>\n",
       "      <td>Google Pinterest Digg Linkedin Reddit Stumbleu...</td>\n",
       "      <td>FAKE</td>\n",
       "    </tr>\n",
       "    <tr>\n",
       "      <th>2</th>\n",
       "      <td>3608</td>\n",
       "      <td>Kerry to go to Paris in gesture of sympathy</td>\n",
       "      <td>U.S. Secretary of State John F. Kerry said Mon...</td>\n",
       "      <td>REAL</td>\n",
       "    </tr>\n",
       "    <tr>\n",
       "      <th>3</th>\n",
       "      <td>10142</td>\n",
       "      <td>Bernie supporters on Twitter erupt in anger ag...</td>\n",
       "      <td>— Kaydee King (@KaydeeKing) November 9, 2016 T...</td>\n",
       "      <td>FAKE</td>\n",
       "    </tr>\n",
       "    <tr>\n",
       "      <th>4</th>\n",
       "      <td>875</td>\n",
       "      <td>The Battle of New York: Why This Primary Matters</td>\n",
       "      <td>It's primary day in New York and front-runners...</td>\n",
       "      <td>REAL</td>\n",
       "    </tr>\n",
       "    <tr>\n",
       "      <th>...</th>\n",
       "      <td>...</td>\n",
       "      <td>...</td>\n",
       "      <td>...</td>\n",
       "      <td>...</td>\n",
       "    </tr>\n",
       "    <tr>\n",
       "      <th>6330</th>\n",
       "      <td>4490</td>\n",
       "      <td>State Department says it can't find emails fro...</td>\n",
       "      <td>The State Department told the Republican Natio...</td>\n",
       "      <td>REAL</td>\n",
       "    </tr>\n",
       "    <tr>\n",
       "      <th>6331</th>\n",
       "      <td>8062</td>\n",
       "      <td>The ‘P’ in PBS Should Stand for ‘Plutocratic’ ...</td>\n",
       "      <td>The ‘P’ in PBS Should Stand for ‘Plutocratic’ ...</td>\n",
       "      <td>FAKE</td>\n",
       "    </tr>\n",
       "    <tr>\n",
       "      <th>6332</th>\n",
       "      <td>8622</td>\n",
       "      <td>Anti-Trump Protesters Are Tools of the Oligarc...</td>\n",
       "      <td>Anti-Trump Protesters Are Tools of the Oligar...</td>\n",
       "      <td>FAKE</td>\n",
       "    </tr>\n",
       "    <tr>\n",
       "      <th>6333</th>\n",
       "      <td>4021</td>\n",
       "      <td>In Ethiopia, Obama seeks progress on peace, se...</td>\n",
       "      <td>ADDIS ABABA, Ethiopia —President Obama convene...</td>\n",
       "      <td>REAL</td>\n",
       "    </tr>\n",
       "    <tr>\n",
       "      <th>6334</th>\n",
       "      <td>4330</td>\n",
       "      <td>Jeb Bush Is Suddenly Attacking Trump. Here's W...</td>\n",
       "      <td>Jeb Bush Is Suddenly Attacking Trump. Here's W...</td>\n",
       "      <td>REAL</td>\n",
       "    </tr>\n",
       "  </tbody>\n",
       "</table>\n",
       "<p>6335 rows × 4 columns</p>\n",
       "</div>"
      ],
      "text/plain": [
       "      Unnamed: 0                                              title  \\\n",
       "0           8476                       You Can Smell Hillary’s Fear   \n",
       "1          10294  Watch The Exact Moment Paul Ryan Committed Pol...   \n",
       "2           3608        Kerry to go to Paris in gesture of sympathy   \n",
       "3          10142  Bernie supporters on Twitter erupt in anger ag...   \n",
       "4            875   The Battle of New York: Why This Primary Matters   \n",
       "...          ...                                                ...   \n",
       "6330        4490  State Department says it can't find emails fro...   \n",
       "6331        8062  The ‘P’ in PBS Should Stand for ‘Plutocratic’ ...   \n",
       "6332        8622  Anti-Trump Protesters Are Tools of the Oligarc...   \n",
       "6333        4021  In Ethiopia, Obama seeks progress on peace, se...   \n",
       "6334        4330  Jeb Bush Is Suddenly Attacking Trump. Here's W...   \n",
       "\n",
       "                                                   text label  \n",
       "0     Daniel Greenfield, a Shillman Journalism Fello...  FAKE  \n",
       "1     Google Pinterest Digg Linkedin Reddit Stumbleu...  FAKE  \n",
       "2     U.S. Secretary of State John F. Kerry said Mon...  REAL  \n",
       "3     — Kaydee King (@KaydeeKing) November 9, 2016 T...  FAKE  \n",
       "4     It's primary day in New York and front-runners...  REAL  \n",
       "...                                                 ...   ...  \n",
       "6330  The State Department told the Republican Natio...  REAL  \n",
       "6331  The ‘P’ in PBS Should Stand for ‘Plutocratic’ ...  FAKE  \n",
       "6332   Anti-Trump Protesters Are Tools of the Oligar...  FAKE  \n",
       "6333  ADDIS ABABA, Ethiopia —President Obama convene...  REAL  \n",
       "6334  Jeb Bush Is Suddenly Attacking Trump. Here's W...  REAL  \n",
       "\n",
       "[6335 rows x 4 columns]"
      ]
     },
     "execution_count": 6,
     "metadata": {},
     "output_type": "execute_result"
    }
   ],
   "source": [
    "df"
   ]
  },
  {
   "cell_type": "markdown",
   "id": "77d24855",
   "metadata": {
    "papermill": {
     "duration": 0.008978,
     "end_time": "2024-02-08T14:38:35.715626",
     "exception": false,
     "start_time": "2024-02-08T14:38:35.706648",
     "status": "completed"
    },
    "tags": []
   },
   "source": [
    "# Check how many rows & columns are in the data "
   ]
  },
  {
   "cell_type": "code",
   "execution_count": 7,
   "id": "7b96320f",
   "metadata": {
    "execution": {
     "iopub.execute_input": "2024-02-08T14:38:35.734154Z",
     "iopub.status.busy": "2024-02-08T14:38:35.733401Z",
     "iopub.status.idle": "2024-02-08T14:38:35.738691Z",
     "shell.execute_reply": "2024-02-08T14:38:35.737924Z"
    },
    "papermill": {
     "duration": 0.016578,
     "end_time": "2024-02-08T14:38:35.740468",
     "exception": false,
     "start_time": "2024-02-08T14:38:35.723890",
     "status": "completed"
    },
    "tags": []
   },
   "outputs": [
    {
     "data": {
      "text/plain": [
       "(6335, 4)"
      ]
     },
     "execution_count": 7,
     "metadata": {},
     "output_type": "execute_result"
    }
   ],
   "source": [
    "df.shape"
   ]
  },
  {
   "cell_type": "code",
   "execution_count": 8,
   "id": "92b35c46",
   "metadata": {},
   "outputs": [
    {
     "data": {
      "text/html": [
       "<div>\n",
       "<style scoped>\n",
       "    .dataframe tbody tr th:only-of-type {\n",
       "        vertical-align: middle;\n",
       "    }\n",
       "\n",
       "    .dataframe tbody tr th {\n",
       "        vertical-align: top;\n",
       "    }\n",
       "\n",
       "    .dataframe thead th {\n",
       "        text-align: right;\n",
       "    }\n",
       "</style>\n",
       "<table border=\"1\" class=\"dataframe\">\n",
       "  <thead>\n",
       "    <tr style=\"text-align: right;\">\n",
       "      <th></th>\n",
       "      <th>Unnamed: 0</th>\n",
       "    </tr>\n",
       "  </thead>\n",
       "  <tbody>\n",
       "    <tr>\n",
       "      <th>count</th>\n",
       "      <td>6335.000000</td>\n",
       "    </tr>\n",
       "    <tr>\n",
       "      <th>mean</th>\n",
       "      <td>5280.415627</td>\n",
       "    </tr>\n",
       "    <tr>\n",
       "      <th>std</th>\n",
       "      <td>3038.503953</td>\n",
       "    </tr>\n",
       "    <tr>\n",
       "      <th>min</th>\n",
       "      <td>2.000000</td>\n",
       "    </tr>\n",
       "    <tr>\n",
       "      <th>25%</th>\n",
       "      <td>2674.500000</td>\n",
       "    </tr>\n",
       "    <tr>\n",
       "      <th>50%</th>\n",
       "      <td>5271.000000</td>\n",
       "    </tr>\n",
       "    <tr>\n",
       "      <th>75%</th>\n",
       "      <td>7901.000000</td>\n",
       "    </tr>\n",
       "    <tr>\n",
       "      <th>max</th>\n",
       "      <td>10557.000000</td>\n",
       "    </tr>\n",
       "  </tbody>\n",
       "</table>\n",
       "</div>"
      ],
      "text/plain": [
       "         Unnamed: 0\n",
       "count   6335.000000\n",
       "mean    5280.415627\n",
       "std     3038.503953\n",
       "min        2.000000\n",
       "25%     2674.500000\n",
       "50%     5271.000000\n",
       "75%     7901.000000\n",
       "max    10557.000000"
      ]
     },
     "execution_count": 8,
     "metadata": {},
     "output_type": "execute_result"
    }
   ],
   "source": [
    "df.describe()"
   ]
  },
  {
   "cell_type": "code",
   "execution_count": 9,
   "id": "a410b0f1",
   "metadata": {},
   "outputs": [
    {
     "name": "stdout",
     "output_type": "stream",
     "text": [
      "<class 'pandas.core.frame.DataFrame'>\n",
      "RangeIndex: 6335 entries, 0 to 6334\n",
      "Data columns (total 4 columns):\n",
      " #   Column      Non-Null Count  Dtype \n",
      "---  ------      --------------  ----- \n",
      " 0   Unnamed: 0  6335 non-null   int64 \n",
      " 1   title       6335 non-null   object\n",
      " 2   text        6335 non-null   object\n",
      " 3   label       6335 non-null   object\n",
      "dtypes: int64(1), object(3)\n",
      "memory usage: 198.1+ KB\n"
     ]
    }
   ],
   "source": [
    "df.info()"
   ]
  },
  {
   "cell_type": "code",
   "execution_count": 10,
   "id": "837e5e76",
   "metadata": {},
   "outputs": [
    {
     "data": {
      "text/plain": [
       "REAL    3171\n",
       "FAKE    3164\n",
       "Name: label, dtype: int64"
      ]
     },
     "execution_count": 10,
     "metadata": {},
     "output_type": "execute_result"
    }
   ],
   "source": [
    "df['label'].value_counts()"
   ]
  },
  {
   "cell_type": "code",
   "execution_count": 11,
   "id": "55fce8ae",
   "metadata": {},
   "outputs": [
    {
     "data": {
      "text/plain": [
       "REAL    0.500552\n",
       "FAKE    0.499448\n",
       "Name: label, dtype: float64"
      ]
     },
     "execution_count": 11,
     "metadata": {},
     "output_type": "execute_result"
    }
   ],
   "source": [
    "df['label'].value_counts(normalize=True)"
   ]
  },
  {
   "cell_type": "markdown",
   "id": "bb9ea5f7",
   "metadata": {
    "papermill": {
     "duration": 0.008289,
     "end_time": "2024-02-08T14:38:35.757210",
     "exception": false,
     "start_time": "2024-02-08T14:38:35.748921",
     "status": "completed"
    },
    "tags": []
   },
   "source": [
    "# Checks missing values"
   ]
  },
  {
   "cell_type": "code",
   "execution_count": null,
   "id": "3ab2f1bc",
   "metadata": {},
   "outputs": [],
   "source": []
  },
  {
   "cell_type": "code",
   "execution_count": 12,
   "id": "951b0fe6",
   "metadata": {
    "execution": {
     "iopub.execute_input": "2024-02-08T14:38:35.775363Z",
     "iopub.status.busy": "2024-02-08T14:38:35.775104Z",
     "iopub.status.idle": "2024-02-08T14:38:35.785234Z",
     "shell.execute_reply": "2024-02-08T14:38:35.784445Z"
    },
    "papermill": {
     "duration": 0.021128,
     "end_time": "2024-02-08T14:38:35.787125",
     "exception": false,
     "start_time": "2024-02-08T14:38:35.765997",
     "status": "completed"
    },
    "tags": []
   },
   "outputs": [
    {
     "data": {
      "text/plain": [
       "Unnamed: 0    0\n",
       "title         0\n",
       "text          0\n",
       "label         0\n",
       "dtype: int64"
      ]
     },
     "execution_count": 12,
     "metadata": {},
     "output_type": "execute_result"
    }
   ],
   "source": [
    "df.isnull().sum()"
   ]
  },
  {
   "cell_type": "markdown",
   "id": "239c5d65",
   "metadata": {},
   "source": [
    "# Data Visualization"
   ]
  },
  {
   "cell_type": "code",
   "execution_count": 13,
   "id": "88b226f6",
   "metadata": {},
   "outputs": [
    {
     "name": "stderr",
     "output_type": "stream",
     "text": [
      "C:\\Users\\home\\anaconda3\\lib\\site-packages\\seaborn\\_decorators.py:36: FutureWarning: Pass the following variable as a keyword arg: x. From version 0.12, the only valid positional argument will be `data`, and passing other arguments without an explicit keyword will result in an error or misinterpretation.\n",
      "  warnings.warn(\n"
     ]
    },
    {
     "data": {
      "image/png": "[encoded data removed]",
      "text/plain": [
       "<Figure size 432x288 with 1 Axes>"
      ]
     },
     "metadata": {
      "needs_background": "light"
     },
     "output_type": "display_data"
    }
   ],
   "source": [
    "sns.countplot(df['label'])\n",
    "plt.title('Data Distribution')\n",
    "plt.show()"
   ]
  },
  {
   "cell_type": "markdown",
   "id": "f42d7d45",
   "metadata": {
    "papermill": {
     "duration": 0.008387,
     "end_time": "2024-02-08T14:38:35.804094",
     "exception": false,
     "start_time": "2024-02-08T14:38:35.795707",
     "status": "completed"
    },
    "tags": []
   },
   "source": [
    "## Separating data and labels"
   ]
  },
  {
   "cell_type": "code",
   "execution_count": 14,
   "id": "65fa027c",
   "metadata": {
    "execution": {
     "iopub.execute_input": "2024-02-08T14:38:35.822371Z",
     "iopub.status.busy": "2024-02-08T14:38:35.822101Z",
     "iopub.status.idle": "2024-02-08T14:38:35.833373Z",
     "shell.execute_reply": "2024-02-08T14:38:35.832745Z"
    },
    "papermill": {
     "duration": 0.02252,
     "end_time": "2024-02-08T14:38:35.835219",
     "exception": false,
     "start_time": "2024-02-08T14:38:35.812699",
     "status": "completed"
    },
    "tags": []
   },
   "outputs": [],
   "source": [
    "X = df.drop(columns = 'label')\n",
    "Y = df['label']"
   ]
  },
  {
   "cell_type": "markdown",
   "id": "96526b67",
   "metadata": {
    "papermill": {
     "duration": 0.008372,
     "end_time": "2024-02-08T14:38:35.852130",
     "exception": false,
     "start_time": "2024-02-08T14:38:35.843758",
     "status": "completed"
    },
    "tags": []
   },
   "source": [
    "## Stemming"
   ]
  },
  {
   "cell_type": "code",
   "execution_count": 15,
   "id": "b0cfce2b",
   "metadata": {
    "execution": {
     "iopub.execute_input": "2024-02-08T14:38:35.870102Z",
     "iopub.status.busy": "2024-02-08T14:38:35.869824Z",
     "iopub.status.idle": "2024-02-08T14:38:35.873393Z",
     "shell.execute_reply": "2024-02-08T14:38:35.872617Z"
    },
    "papermill": {
     "duration": 0.014633,
     "end_time": "2024-02-08T14:38:35.875193",
     "exception": false,
     "start_time": "2024-02-08T14:38:35.860560",
     "status": "completed"
    },
    "tags": []
   },
   "outputs": [],
   "source": [
    "stem = PorterStemmer()"
   ]
  },
  {
   "cell_type": "code",
   "execution_count": 16,
   "id": "b10a4122",
   "metadata": {
    "execution": {
     "iopub.execute_input": "2024-02-08T14:38:35.893180Z",
     "iopub.status.busy": "2024-02-08T14:38:35.892894Z",
     "iopub.status.idle": "2024-02-08T14:38:35.897962Z",
     "shell.execute_reply": "2024-02-08T14:38:35.897161Z"
    },
    "papermill": {
     "duration": 0.015951,
     "end_time": "2024-02-08T14:38:35.899716",
     "exception": false,
     "start_time": "2024-02-08T14:38:35.883765",
     "status": "completed"
    },
    "tags": []
   },
   "outputs": [],
   "source": [
    "def stemming(text):\n",
    "    stem_text = re.sub('[^a-zA-Z]',' ',text)\n",
    "    stem_text = stem_text.lower()\n",
    "    stem_text = stem_text.split()\n",
    "    stem_text = [stem.stem(word) for word in stem_text if not word in stopwords.words('english')] \n",
    "    stem_text = ' '.join(stem_text)\n",
    "    return stem_text"
   ]
  },
  {
   "cell_type": "code",
   "execution_count": null,
   "id": "1b920ac6",
   "metadata": {
    "execution": {
     "iopub.execute_input": "2024-02-08T14:38:35.917775Z",
     "iopub.status.busy": "2024-02-08T14:38:35.917517Z",
     "iopub.status.idle": "2024-02-08T14:50:12.527459Z",
     "shell.execute_reply": "2024-02-08T14:50:12.526438Z"
    },
    "papermill": {
     "duration": 696.621638,
     "end_time": "2024-02-08T14:50:12.529974",
     "exception": false,
     "start_time": "2024-02-08T14:38:35.908336",
     "status": "completed"
    },
    "tags": []
   },
   "outputs": [],
   "source": [
    "df['text'] = df['text'].apply(stemming)"
   ]
  },
  {
   "cell_type": "code",
   "execution_count": null,
   "id": "55c8a44d",
   "metadata": {
    "execution": {
     "iopub.execute_input": "2024-02-08T14:50:12.549458Z",
     "iopub.status.busy": "2024-02-08T14:50:12.549157Z",
     "iopub.status.idle": "2024-02-08T14:50:12.553462Z",
     "shell.execute_reply": "2024-02-08T14:50:12.552698Z"
    },
    "papermill": {
     "duration": 0.015784,
     "end_time": "2024-02-08T14:50:12.555259",
     "exception": false,
     "start_time": "2024-02-08T14:50:12.539475",
     "status": "completed"
    },
    "tags": []
   },
   "outputs": [],
   "source": [
    "x = df['text'].values\n",
    "y = df['label'].values"
   ]
  },
  {
   "cell_type": "markdown",
   "id": "34ab90d1",
   "metadata": {
    "papermill": {
     "duration": 0.008487,
     "end_time": "2024-02-08T14:50:12.572429",
     "exception": false,
     "start_time": "2024-02-08T14:50:12.563942",
     "status": "completed"
    },
    "tags": []
   },
   "source": [
    "## Coverting textual data into numeric data"
   ]
  },
  {
   "cell_type": "code",
   "execution_count": null,
   "id": "87a86396",
   "metadata": {
    "execution": {
     "iopub.execute_input": "2024-02-08T14:50:12.590568Z",
     "iopub.status.busy": "2024-02-08T14:50:12.590302Z",
     "iopub.status.idle": "2024-02-08T14:50:18.066471Z",
     "shell.execute_reply": "2024-02-08T14:50:18.065583Z"
    },
    "papermill": {
     "duration": 5.487898,
     "end_time": "2024-02-08T14:50:18.068999",
     "exception": false,
     "start_time": "2024-02-08T14:50:12.581101",
     "status": "completed"
    },
    "tags": []
   },
   "outputs": [],
   "source": [
    "vect = TfidfVectorizer()\n",
    "vect.fit(x)\n",
    "\n",
    "X = vect.transform(x)"
   ]
  },
  {
   "cell_type": "markdown",
   "id": "83150729",
   "metadata": {
    "papermill": {
     "duration": 0.009633,
     "end_time": "2024-02-08T14:50:18.089325",
     "exception": false,
     "start_time": "2024-02-08T14:50:18.079692",
     "status": "completed"
    },
    "tags": []
   },
   "source": [
    "## Spliting into X and Y"
   ]
  },
  {
   "cell_type": "code",
   "execution_count": null,
   "id": "cf2eaa63",
   "metadata": {
    "execution": {
     "iopub.execute_input": "2024-02-08T14:50:18.109890Z",
     "iopub.status.busy": "2024-02-08T14:50:18.109502Z",
     "iopub.status.idle": "2024-02-08T14:50:18.120994Z",
     "shell.execute_reply": "2024-02-08T14:50:18.120122Z"
    },
    "papermill": {
     "duration": 0.024364,
     "end_time": "2024-02-08T14:50:18.123103",
     "exception": false,
     "start_time": "2024-02-08T14:50:18.098739",
     "status": "completed"
    },
    "tags": []
   },
   "outputs": [],
   "source": [
    "Xtrain, Xtest,Ytrain,Ytest = train_test_split(X,y,test_size=0.2,random_state=2)"
   ]
  },
  {
   "cell_type": "markdown",
   "id": "4ca14341",
   "metadata": {
    "papermill": {
     "duration": 0.00909,
     "end_time": "2024-02-08T14:50:18.142042",
     "exception": false,
     "start_time": "2024-02-08T14:50:18.132952",
     "status": "completed"
    },
    "tags": []
   },
   "source": [
    "## Model training"
   ]
  },
  {
   "cell_type": "code",
   "execution_count": null,
   "id": "f808423f",
   "metadata": {
    "execution": {
     "iopub.execute_input": "2024-02-08T14:50:18.162565Z",
     "iopub.status.busy": "2024-02-08T14:50:18.162283Z",
     "iopub.status.idle": "2024-02-08T14:50:18.166326Z",
     "shell.execute_reply": "2024-02-08T14:50:18.165426Z"
    },
    "papermill": {
     "duration": 0.016179,
     "end_time": "2024-02-08T14:50:18.168308",
     "exception": false,
     "start_time": "2024-02-08T14:50:18.152129",
     "status": "completed"
    },
    "tags": []
   },
   "outputs": [],
   "source": [
    "model = LogisticRegression()"
   ]
  },
  {
   "cell_type": "code",
   "execution_count": null,
   "id": "fac05cc2",
   "metadata": {
    "execution": {
     "iopub.execute_input": "2024-02-08T14:50:18.187803Z",
     "iopub.status.busy": "2024-02-08T14:50:18.187527Z",
     "iopub.status.idle": "2024-02-08T14:50:18.993599Z",
     "shell.execute_reply": "2024-02-08T14:50:18.992256Z"
    },
    "papermill": {
     "duration": 0.819388,
     "end_time": "2024-02-08T14:50:18.996920",
     "exception": false,
     "start_time": "2024-02-08T14:50:18.177532",
     "status": "completed"
    },
    "tags": []
   },
   "outputs": [],
   "source": [
    "model.fit(Xtrain,Ytrain)"
   ]
  },
  {
   "cell_type": "markdown",
   "id": "dd95e48a",
   "metadata": {
    "papermill": {
     "duration": 0.018501,
     "end_time": "2024-02-08T14:50:19.033992",
     "exception": false,
     "start_time": "2024-02-08T14:50:19.015491",
     "status": "completed"
    },
    "tags": []
   },
   "source": [
    "## Evaluation"
   ]
  },
  {
   "cell_type": "code",
   "execution_count": null,
   "id": "17dcdde8",
   "metadata": {
    "execution": {
     "iopub.execute_input": "2024-02-08T14:50:19.073168Z",
     "iopub.status.busy": "2024-02-08T14:50:19.072668Z",
     "iopub.status.idle": "2024-02-08T14:50:19.091725Z",
     "shell.execute_reply": "2024-02-08T14:50:19.090411Z"
    },
    "papermill": {
     "duration": 0.04258,
     "end_time": "2024-02-08T14:50:19.095663",
     "exception": false,
     "start_time": "2024-02-08T14:50:19.053083",
     "status": "completed"
    },
    "tags": []
   },
   "outputs": [],
   "source": [
    "xtrain = model.predict(Xtrain)\n",
    "print(xtrain)"
   ]
  },
  {
   "cell_type": "code",
   "execution_count": null,
   "id": "f9150613",
   "metadata": {
    "execution": {
     "iopub.execute_input": "2024-02-08T14:50:19.127745Z",
     "iopub.status.busy": "2024-02-08T14:50:19.126822Z",
     "iopub.status.idle": "2024-02-08T14:50:19.146004Z",
     "shell.execute_reply": "2024-02-08T14:50:19.145043Z"
    },
    "papermill": {
     "duration": 0.03175,
     "end_time": "2024-02-08T14:50:19.148010",
     "exception": false,
     "start_time": "2024-02-08T14:50:19.116260",
     "status": "completed"
    },
    "tags": []
   },
   "outputs": [],
   "source": [
    "Acc = accuracy_score(xtrain,Ytrain)\n",
    "print(Acc)"
   ]
  },
  {
   "cell_type": "markdown",
   "id": "3e70bc5c",
   "metadata": {
    "papermill": {
     "duration": 0.009231,
     "end_time": "2024-02-08T14:50:19.166148",
     "exception": false,
     "start_time": "2024-02-08T14:50:19.156917",
     "status": "completed"
    },
    "tags": []
   },
   "source": [
    "## Evaluation on test data"
   ]
  },
  {
   "cell_type": "code",
   "execution_count": null,
   "id": "396ff797",
   "metadata": {
    "execution": {
     "iopub.execute_input": "2024-02-08T14:50:19.185080Z",
     "iopub.status.busy": "2024-02-08T14:50:19.184783Z",
     "iopub.status.idle": "2024-02-08T14:50:19.190280Z",
     "shell.execute_reply": "2024-02-08T14:50:19.189342Z"
    },
    "papermill": {
     "duration": 0.017102,
     "end_time": "2024-02-08T14:50:19.192156",
     "exception": false,
     "start_time": "2024-02-08T14:50:19.175054",
     "status": "completed"
    },
    "tags": []
   },
   "outputs": [],
   "source": [
    "xtest = model.predict(Xtest)\n",
    "print(xtest)"
   ]
  },
  {
   "cell_type": "code",
   "execution_count": null,
   "id": "787b7914",
   "metadata": {
    "execution": {
     "iopub.execute_input": "2024-02-08T14:50:19.211022Z",
     "iopub.status.busy": "2024-02-08T14:50:19.210738Z",
     "iopub.status.idle": "2024-02-08T14:50:19.218870Z",
     "shell.execute_reply": "2024-02-08T14:50:19.218005Z"
    },
    "papermill": {
     "duration": 0.019668,
     "end_time": "2024-02-08T14:50:19.220749",
     "exception": false,
     "start_time": "2024-02-08T14:50:19.201081",
     "status": "completed"
    },
    "tags": []
   },
   "outputs": [],
   "source": [
    "Acc = accuracy_score(xtest,Ytest)\n",
    "print(Acc)"
   ]
  },
  {
   "cell_type": "markdown",
   "id": "a5b16c32",
   "metadata": {
    "papermill": {
     "duration": 0.008811,
     "end_time": "2024-02-08T14:50:19.238557",
     "exception": false,
     "start_time": "2024-02-08T14:50:19.229746",
     "status": "completed"
    },
    "tags": []
   },
   "source": [
    "## Let's make a predicted System"
   ]
  },
  {
   "cell_type": "code",
   "execution_count": null,
   "id": "8970f16a",
   "metadata": {
    "execution": {
     "iopub.execute_input": "2024-02-08T14:50:19.257594Z",
     "iopub.status.busy": "2024-02-08T14:50:19.257361Z",
     "iopub.status.idle": "2024-02-08T14:50:19.263425Z",
     "shell.execute_reply": "2024-02-08T14:50:19.262432Z"
    },
    "papermill": {
     "duration": 0.017751,
     "end_time": "2024-02-08T14:50:19.265321",
     "exception": false,
     "start_time": "2024-02-08T14:50:19.247570",
     "status": "completed"
    },
    "tags": []
   },
   "outputs": [],
   "source": [
    "X_news = Xtest[2]\n",
    "predict = model.predict(X_news)\n",
    "\n",
    "print(predict)\n",
    "\n",
    "if predict[0] == 'REAL':\n",
    "    print('the news is real')\n",
    "else:\n",
    "    print('the news is fake')"
   ]
  },
  {
   "cell_type": "code",
   "execution_count": null,
   "id": "1470d130",
   "metadata": {
    "papermill": {
     "duration": 0.008874,
     "end_time": "2024-02-08T14:50:19.283532",
     "exception": false,
     "start_time": "2024-02-08T14:50:19.274658",
     "status": "completed"
    },
    "tags": []
   },
   "outputs": [],
   "source": []
  }
 ],
 "metadata": {
  "kaggle": {
   "accelerator": "gpu",
   "dataSources": [
    {
     "datasetId": 3950844,
     "sourceId": 6875518,
     "sourceType": "datasetVersion"
    }
   ],
   "dockerImageVersionId": 30648,
   "isGpuEnabled": true,
   "isInternetEnabled": true,
   "language": "python",
   "sourceType": "notebook"
  },
  "kernelspec": {
   "display_name": "Python 3 (ipykernel)",
   "language": "python",
   "name": "python3"
  },
  "language_info": {
   "codemirror_mode": {
    "name": "ipython",
    "version": 3
   },
   "file_extension": ".py",
   "mimetype": "text/x-python",
   "name": "python",
   "nbconvert_exporter": "python",
   "pygments_lexer": "ipython3",
   "version": "3.9.7"
  },
  "papermill": {
   "default_parameters": {},
   "duration": 710.220083,
   "end_time": "2024-02-08T14:50:19.812136",
   "environment_variables": {},
   "exception": null,
   "input_path": "__notebook__.ipynb",
   "output_path": "__notebook__.ipynb",
   "parameters": {},
   "start_time": "2024-02-08T14:38:29.592053",
   "version": "2.5.0"
  }
 },
 "nbformat": 4,
 "nbformat_minor": 5
}
